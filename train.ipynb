{
 "cells": [
  {
   "cell_type": "code",
   "execution_count": null,
   "metadata": {},
   "outputs": [],
   "source": [
    "from roboflow import Roboflow\n",
    "from ultralytics import YOLO\n",
    "from os import path\n",
    "import yaml\n",
    "from dotenv import load_dotenv\n",
    "load_dotenv()"
   ]
  },
  {
   "cell_type": "code",
   "execution_count": null,
   "metadata": {},
   "outputs": [],
   "source": [
    "!rm -rf \"datasets\""
   ]
  },
  {
   "cell_type": "code",
   "execution_count": null,
   "metadata": {},
   "outputs": [],
   "source": [
    "dataset_target_path=path.abspath(path.join(\"datasets\"))\n",
    "\n",
    "rf = Roboflow(api_key=os.getenv('api_key'))\n",
    "project = rf.workspace(\"manfred-schaut-zu-y6xxp\").project(\"fischengta\")\n",
    "dataset = project.version(4).download(\"yolov8\",location=dataset_target_path,overwrite=True)"
   ]
  },
  {
   "cell_type": "code",
   "execution_count": null,
   "metadata": {},
   "outputs": [],
   "source": [
    "data_file_path=path.abspath(path.join(\"datasets/data.yaml\"))\n",
    "with open(data_file_path,\"r\") as f:\n",
    "    ansible_file = yaml.safe_load(f)\n",
    "    ansible_file[\"test\"] = path.abspath(path.join(\"datasets/test/images\"))\n",
    "    ansible_file[\"train\"] = path.abspath(path.join(\"datasets/train/images\"))\n",
    "    ansible_file[\"val\"] = path.abspath(path.join(\"datasets/valid/images\"))\n",
    "\n",
    "with open(data_file_path,\"w\") as f:\n",
    "    yaml.dump(ansible_file,f)"
   ]
  },
  {
   "cell_type": "code",
   "execution_count": null,
   "metadata": {},
   "outputs": [],
   "source": [
    "model = YOLO(\"yolov8n.pt\")\n",
    "model.train(\n",
    "    data=data_file_path,\n",
    "    epochs=30,\n",
    "    device=\"cpu\",\n",
    "    cache=\"ram\",\n",
    "    pretrained=True)"
   ]
  },
  {
   "cell_type": "code",
   "execution_count": null,
   "metadata": {},
   "outputs": [],
   "source": [
    "model.val()\n",
    "model.info(verbose=True)"
   ]
  }
 ],
 "metadata": {
  "kernelspec": {
   "display_name": ".venv",
   "language": "python",
   "name": "python3"
  },
  "language_info": {
   "codemirror_mode": {
    "name": "ipython",
    "version": 3
   },
   "file_extension": ".py",
   "mimetype": "text/x-python",
   "name": "python",
   "nbconvert_exporter": "python",
   "pygments_lexer": "ipython3",
   "version": "3.10.9"
  },
  "orig_nbformat": 4,
  "vscode": {
   "interpreter": {
    "hash": "16ca33c5fa60643183be6c5cf9fba7b225cbb3e9a9b1eed8defe41d2eaff14fc"
   }
  }
 },
 "nbformat": 4,
 "nbformat_minor": 2
}
